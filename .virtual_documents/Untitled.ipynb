from flask import Flask, request, jsonify, render_template
import datetime

app = Flask(__name__)
app.config['JSON_AS_ASCII'] = False

log = logging.getLogger('werkzeug')
log.setLevel(logging.WARNING)

novedades = []

@app.route('/novedades', methods=['POST'])
def recibir_novedad():
    data = request.json
    novedades.append(data)
    return jsonify(status='success'), 200

@app.route('/novedades', methods=['GET'])
def obtener_novedades():
    return jsonify(novedades=novedades)

@app.route('/')
def index():
    return render_template('index.html')

@app.route('/health', methods=['GET'])
def health():
    try:
        response = requests.get('http://localhost:5000/pol/')
        if response.status_code == 200:
            return jsonify(status='alive'), 200
        else:
            return jsonify(status='down'), 503
    except:
        return jsonify(status='down'), 503

if __name__ == '__main__':
    app.run(port=5001)



