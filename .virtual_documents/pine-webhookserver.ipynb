from flask import Flask, request, jsonify
import requests
import datetime
import logging

WEB_HOOK_SERVER_PORT=5000

app = Flask(__name__)
app.config['MAX_CONTENT_LENGTH'] = 4096
app.config['JSON_AS_ASCII'] = False

log = logging.getLogger('werkzeug')
log.setLevel(logging.WARNING)

# Dirección del servidor simpleclient
simpleclient_url = 'http://localhost:5001/novedades'
#simpleclient_url = 'https://sad-games-smash.loca.lt/novedades'

@app.route('/webhook', methods=['POST'])
def webhook():
    data = request.json
    # Procesa los datos recibidos
    print(data)
    
    # Enviar novedad al servidor simpleclient
    novedad = {
        'timestamp': datetime.datetime.now().isoformat(),
        'data': data
    }
    requests.post(simpleclient_url, json=novedad)

    return jsonify(status='success'), 200

@app.route('/pol', methods=['GET'])
def proof_of_life():
    timestamp = datetime.datetime.now().isoformat()
    return jsonify(
        message="¡El Webhook está vivo!",
        timestamp=timestamp
    ), 200

if __name__ == '__main__':
    app.run(port=WEB_HOOK_SERVER_PORT)



