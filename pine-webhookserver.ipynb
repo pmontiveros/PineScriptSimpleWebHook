{
 "cells": [
  {
   "cell_type": "code",
   "execution_count": null,
   "id": "bd5e3ac2-a0e4-4c2b-974b-3b3312db2141",
   "metadata": {},
   "outputs": [
    {
     "name": "stdout",
     "output_type": "stream",
     "text": [
      " * Serving Flask app '__main__'\n",
      " * Debug mode: off\n",
      "{'symbol': 'AAPL', 'price': 150.25, 'alert_name': 'Price Alert', 'message': 'The price of AAPL has reached $150.25', 'time': '2024-07-06T14:30:00Z'}\n",
      "{'symbol': 'AAPL', 'price': 150.25, 'alert_name': 'Price Alert', 'message': 'The price of AAPL has reached $150.25', 'time': '2024-07-06T14:30:00Z'}\n",
      "{'symbol': 'AAPL', 'price': 150.25, 'alert_name': 'Price Alert', 'message': 'The price of AAPL has reached $150.25', 'time': '2024-07-06T14:30:00Z'}\n",
      "{'symbol': 'AAPL', 'price': 150.25, 'alert_name': 'Price Alert', 'message': 'The price of AAPL has reached $150.25', 'time': '2024-07-06T14:30:00Z'}\n",
      "{'symbol': 'AAPL', 'price': 150.25, 'alert_name': 'Price Alert', 'message': 'The price of AAPL has reached $150.25', 'time': '2024-07-06T14:30:00Z'}\n",
      "{'symbol': 'AAPL', 'price': 150.25, 'alert_name': 'Price Alert', 'message': 'The price of AAPL has reached $150.25', 'time': '2024-07-06T14:30:00Z'}\n"
     ]
    }
   ],
   "source": [
    "from flask import Flask, request, jsonify\n",
    "import requests\n",
    "import datetime\n",
    "import logging\n",
    "\n",
    "WEB_HOOK_SERVER_PORT=5000\n",
    "\n",
    "app = Flask(__name__)\n",
    "app.config['MAX_CONTENT_LENGTH'] = 4096\n",
    "app.config['JSON_AS_ASCII'] = False\n",
    "\n",
    "log = logging.getLogger('werkzeug')\n",
    "log.setLevel(logging.WARNING)\n",
    "\n",
    "# Dirección del servidor simpleclient\n",
    "simpleclient_url = 'http://localhost:5001/novedades'\n",
    "#simpleclient_url = 'https://sad-games-smash.loca.lt/novedades'\n",
    "\n",
    "@app.route('/webhook', methods=['POST'])\n",
    "def webhook():\n",
    "    data = request.json\n",
    "    # Procesa los datos recibidos\n",
    "    print(data)\n",
    "    \n",
    "    # Enviar novedad al servidor simpleclient\n",
    "    novedad = {\n",
    "        'timestamp': datetime.datetime.now().isoformat(),\n",
    "        'data': data\n",
    "    }\n",
    "    requests.post(simpleclient_url, json=novedad)\n",
    "\n",
    "    return jsonify(status='success'), 200\n",
    "\n",
    "@app.route('/pol', methods=['GET'])\n",
    "def proof_of_life():\n",
    "    timestamp = datetime.datetime.now().isoformat()\n",
    "    return jsonify(\n",
    "        message=\"¡El Webhook está vivo!\",\n",
    "        timestamp=timestamp\n",
    "    ), 200\n",
    "\n",
    "if __name__ == '__main__':\n",
    "    app.run(port=WEB_HOOK_SERVER_PORT)"
   ]
  },
  {
   "cell_type": "raw",
   "id": "a30e6c80-7c91-4c58-adb9-5af2004fda2b",
   "metadata": {},
   "source": [
    "curl -X POST http://localhost:5000/webhook -H \"Content-Type: application/json\" -d '{ \"symbol\": \"AAPL\",\"price\": 150.25,\"alert_name\": \"Price Alert\", \"message\": \"The price of AAPL has reached $150.25\",\"time\": \"2024-07-06T14:30:00Z\"}'"
   ]
  }
 ],
 "metadata": {
  "kernelspec": {
   "display_name": "Python 3 (ipykernel)",
   "language": "python",
   "name": "python3"
  },
  "language_info": {
   "codemirror_mode": {
    "name": "ipython",
    "version": 3
   },
   "file_extension": ".py",
   "mimetype": "text/x-python",
   "name": "python",
   "nbconvert_exporter": "python",
   "pygments_lexer": "ipython3",
   "version": "3.11.7"
  }
 },
 "nbformat": 4,
 "nbformat_minor": 5
}
