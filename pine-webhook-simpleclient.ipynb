{
 "cells": [
  {
   "cell_type": "code",
   "execution_count": null,
   "id": "7b8fc9fb-7781-4dcc-9c50-d0bad87b046c",
   "metadata": {},
   "outputs": [
    {
     "name": "stdout",
     "output_type": "stream",
     "text": [
      " * Serving Flask app '__main__'\n",
      " * Debug mode: off\n",
      "{'symbol': 'AAPL', 'price': 150.25, 'alert_name': 'Price Alert', 'message': 'The price of AAPL has reached $150.25', 'time': '2024-07-06T14:30:00Z', 'timestamp': '2024-07-06T17:10:47.141531'}\n"
     ]
    }
   ],
   "source": [
    "from flask import Flask, request, jsonify, render_template\n",
    "import datetime\n",
    "import logging\n",
    "import json\n",
    "\n",
    "app = Flask(__name__)\n",
    "app.config['JSON_AS_ASCII'] = False\n",
    "\n",
    "log = logging.getLogger('werkzeug')\n",
    "log.setLevel(logging.WARNING)\n",
    "\n",
    "novedades = []\n",
    "\n",
    "@app.route('/novedades', methods=['POST'])\n",
    "def recibir_novedad():\n",
    "    data = request.json\n",
    "    data=data['data']\n",
    "    data['timestamp'] = datetime.datetime.now().isoformat()  # Añadir timestamp al recibir la novedad\n",
    "    # Procesa los datos recibidos\n",
    "    print(data)\n",
    "    novedades.append(data)\n",
    "    return jsonify(status='success'), 200\n",
    "\n",
    "@app.route('/novedades', methods=['GET'])\n",
    "def obtener_novedades():\n",
    "    return jsonify(novedades=novedades)\n",
    "\n",
    "@app.route('/')\n",
    "def index():\n",
    "    return render_template('index.html')\n",
    "\n",
    "@app.route('/health', methods=['GET'])\n",
    "def health():\n",
    "    try:\n",
    "        response = requests.get('http://localhost:5000/pol/')\n",
    "        if response.status_code == 200:\n",
    "            return jsonify(status='alive'), 200\n",
    "        else:\n",
    "            return jsonify(status='down'), 503\n",
    "    except:\n",
    "        return jsonify(status='down'), 503\n",
    "\n",
    "if __name__ == '__main__':\n",
    "    app.run(port=5001)"
   ]
  },
  {
   "cell_type": "code",
   "execution_count": null,
   "id": "46fb792c-3146-43b1-9fb2-741ca9ab9658",
   "metadata": {},
   "outputs": [],
   "source": []
  }
 ],
 "metadata": {
  "kernelspec": {
   "display_name": "Python 3 (ipykernel)",
   "language": "python",
   "name": "python3"
  },
  "language_info": {
   "codemirror_mode": {
    "name": "ipython",
    "version": 3
   },
   "file_extension": ".py",
   "mimetype": "text/x-python",
   "name": "python",
   "nbconvert_exporter": "python",
   "pygments_lexer": "ipython3",
   "version": "3.11.7"
  }
 },
 "nbformat": 4,
 "nbformat_minor": 5
}
